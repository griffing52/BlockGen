{
 "cells": [
  {
   "cell_type": "markdown",
   "id": "ba821eb1",
   "metadata": {},
   "source": [
    "# Block Tokenizer and Vector Embedding (block2vec)\n",
    "\n",
    "Tokenizes blocks using BPE and gives tokens vector embedding using word2vec approach"
   ]
  },
  {
   "cell_type": "code",
   "execution_count": 1,
   "id": "4ec472f0",
   "metadata": {},
   "outputs": [],
   "source": [
    "from blockgen.tokenizers.block_tokenizer import check_vocab, token_to_block_name\n",
    "\n",
    "vocab = check_vocab([\"../data/raw/1.schematic\"])\n",
    "with open(\"vocab.txt\", \"w\") as f:\n",
    "    for item in sorted(list(vocab), key=lambda item: (int(item.split(\":\")[0]), int(item.split(\":\")[1]) if \":\" in item else int(item))):\n",
    "        f.write(f\"{token_to_block_name(item)}\\n\")"
   ]
  },
  {
   "cell_type": "code",
   "execution_count": null,
   "id": "010ee8b1",
   "metadata": {},
   "outputs": [],
   "source": []
  }
 ],
 "metadata": {
  "kernelspec": {
   "display_name": ".venv",
   "language": "python",
   "name": "python3"
  },
  "language_info": {
   "codemirror_mode": {
    "name": "ipython",
    "version": 3
   },
   "file_extension": ".py",
   "mimetype": "text/x-python",
   "name": "python",
   "nbconvert_exporter": "python",
   "pygments_lexer": "ipython3",
   "version": "3.13.3"
  }
 },
 "nbformat": 4,
 "nbformat_minor": 5
}
